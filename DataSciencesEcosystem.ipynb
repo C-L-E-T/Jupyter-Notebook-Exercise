{
 "cells": [
  {
   "cell_type": "markdown",
   "id": "9986652b-849d-4ca2-b7ed-76bb09783616",
   "metadata": {},
   "source": [
    "# Data Science Tools and Ecosystem"
   ]
  },
  {
   "cell_type": "markdown",
   "id": "488bdfd3-71cf-44d6-b03d-160687ce8e82",
   "metadata": {},
   "source": [
    "### In this notebook, Data Science Tools and Ecosystem are summarized."
   ]
  },
  {
   "cell_type": "markdown",
   "id": "cb2a6558-73e7-458b-bbd0-40113b172d99",
   "metadata": {},
   "source": [
    "**Objectives:**\n",
    "- Listing some popular languages \n",
    "- Highlighting a few data science libraries \n",
    "- Demonstrating how to make a table in Markdown\n",
    "- Showing how to use code for simple arithmetic\n",
    "- Demonstrating how to use basic markdown commands"
   ]
  },
  {
   "cell_type": "markdown",
   "id": "ff48c3e2-aaaf-4cfd-b3c6-336fd217fd99",
   "metadata": {},
   "source": [
    "Some of the popular languages that Data Scientists use are:\n",
    "1. R\n",
    "2. Python\n",
    "3. SQL\n",
    "4. Scala\n",
    "5. Java\n",
    "6. C++\n",
    "7. Julia"
   ]
  },
  {
   "cell_type": "markdown",
   "id": "a20c910a-80ca-4e43-8195-c16594edea7e",
   "metadata": {},
   "source": [
    "Some of the commonly used libraries used by Data Scientists include:\n",
    "1. Pandas\n",
    "2. NumPy\n",
    "3. SciPy\n",
    "4. Matplotlib\n",
    "\n"
   ]
  },
  {
   "cell_type": "markdown",
   "id": "fa61dd11-d3f2-433b-bf25-21e003ce1a3b",
   "metadata": {},
   "source": [
    "|Data Science Tools|\n",
    "|----------|\n",
    "| Jupyter Lab| \n",
    "| Apache Zeppelin| \n",
    "| RStudio |"
   ]
  },
  {
   "cell_type": "markdown",
   "id": "2e00a6ef-1403-4ffb-be30-3df3e3540c67",
   "metadata": {},
   "source": [
    "### Below are a few examples of evaluating arithmetic expressions in Python."
   ]
  },
  {
   "cell_type": "code",
   "execution_count": 2,
   "id": "28065ae0-a09d-4276-a401-84ea0ecad337",
   "metadata": {
    "tags": []
   },
   "outputs": [
    {
     "data": {
      "text/plain": [
       "17"
      ]
     },
     "execution_count": 2,
     "metadata": {},
     "output_type": "execute_result"
    }
   ],
   "source": [
    "#This is a Simple arithmetic expression to multiply then add integers.\n",
    "(3*4)+5"
   ]
  },
  {
   "cell_type": "code",
   "execution_count": 3,
   "id": "4f82a40d-e9a7-48e8-977c-13517218841a",
   "metadata": {
    "tags": []
   },
   "outputs": [
    {
     "data": {
      "text/plain": [
       "3.3333333333333335"
      ]
     },
     "execution_count": 3,
     "metadata": {},
     "output_type": "execute_result"
    }
   ],
   "source": [
    "#This will convert 200 minutes to hours by dividing by 60\n",
    "200/60"
   ]
  },
  {
   "cell_type": "markdown",
   "id": "64a18146-f978-4b59-a1d6-32d0f6908090",
   "metadata": {},
   "source": [
    "## Author\n",
    "Chuck Leonard"
   ]
  },
  {
   "cell_type": "code",
   "execution_count": null,
   "id": "6d870dd4-8c53-4252-b8ec-cdf119e1d896",
   "metadata": {},
   "outputs": [],
   "source": []
  }
 ],
 "metadata": {
  "kernelspec": {
   "display_name": "Python",
   "language": "python",
   "name": "conda-env-python-py"
  },
  "language_info": {
   "codemirror_mode": {
    "name": "ipython",
    "version": 3
   },
   "file_extension": ".py",
   "mimetype": "text/x-python",
   "name": "python",
   "nbconvert_exporter": "python",
   "pygments_lexer": "ipython3",
   "version": "3.7.12"
  }
 },
 "nbformat": 4,
 "nbformat_minor": 5
}
